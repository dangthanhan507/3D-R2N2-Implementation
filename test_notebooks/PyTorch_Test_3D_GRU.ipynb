{
 "cells": [
  {
   "cell_type": "code",
   "execution_count": 1,
   "id": "6a4dc3af-fae3-4d34-8f91-4f08f304ba5e",
   "metadata": {},
   "outputs": [],
   "source": [
    "import torch\n",
    "from torch import nn\n",
    "import numpy as np\n",
    "import matplotlib.pyplot as plt\n",
    "import cv2\n",
    "%matplotlib inline"
   ]
  },
  {
   "cell_type": "code",
   "execution_count": 2,
   "id": "1cde38ec-d3da-4b33-a9e2-5fde1ed87d58",
   "metadata": {},
   "outputs": [],
   "source": [
    "device = 'cuda' if torch.cuda.is_available() else 'cpu'"
   ]
  },
  {
   "cell_type": "code",
   "execution_count": 3,
   "id": "99d91a1a-5362-485f-a36e-b5998e8078c5",
   "metadata": {},
   "outputs": [
    {
     "name": "stdout",
     "output_type": "stream",
     "text": [
      "cuda\n"
     ]
    }
   ],
   "source": [
    "print(device)"
   ]
  },
  {
   "cell_type": "code",
   "execution_count": 4,
   "id": "ad5b5e72-09d5-457f-98fc-e37ce7c9e420",
   "metadata": {},
   "outputs": [
    {
     "name": "stdout",
     "output_type": "stream",
     "text": [
      "(127, 127, 3)\n"
     ]
    }
   ],
   "source": [
    "im = plt.imread('cat.png')\n",
    "im = cv2.resize(im, (127,127), interpolation=cv2.INTER_AREA)\n",
    "print(im.shape)\n",
    "im = torch.tensor(im.reshape(1,3,127,127)).cuda()"
   ]
  },
  {
   "cell_type": "code",
   "execution_count": 5,
   "id": "4e5ba661-0020-41be-8e48-e67e16508a25",
   "metadata": {},
   "outputs": [],
   "source": [
    "from deep_model import DeepEncodeNetwork, GRU_Network, DeepDecodeNetwork"
   ]
  },
  {
   "cell_type": "code",
   "execution_count": 6,
   "id": "f4b52c36-ccd4-4c3a-a5e4-9d7b02ad8b68",
   "metadata": {},
   "outputs": [],
   "source": [
    "enc = DeepEncodeNetwork()\n",
    "enc = enc.cuda()\n",
    "\n",
    "gru = GRU_Network()\n",
    "gru= gru.cuda()\n",
    "\n",
    "dec = DeepDecodeNetwork()\n",
    "dec = dec.cuda()"
   ]
  },
  {
   "cell_type": "code",
   "execution_count": 7,
   "id": "38a96c36-0843-4a30-aaac-b9df5430ebd3",
   "metadata": {},
   "outputs": [],
   "source": [
    "encoded = enc(im).cuda()"
   ]
  },
  {
   "cell_type": "code",
   "execution_count": 8,
   "id": "3cc91b79-b52e-4047-8dab-c35aeb21e274",
   "metadata": {},
   "outputs": [],
   "source": [
    "h0 = torch.zeros((128, 4, 4, 4)).cuda()\n",
    "s0 = torch.zeros((128, 4, 4, 4)).cuda()\n",
    "h1 = gru(encoded,h0)"
   ]
  },
  {
   "cell_type": "code",
   "execution_count": 9,
   "id": "899a5e1d-7693-4e23-8adb-e23878890604",
   "metadata": {},
   "outputs": [
    {
     "name": "stdout",
     "output_type": "stream",
     "text": [
      "torch.Size([1, 128, 4, 4, 4])\n"
     ]
    }
   ],
   "source": [
    "print(h1.shape)"
   ]
  },
  {
   "cell_type": "code",
   "execution_count": 10,
   "id": "f4e3aebd-aa48-4e33-9154-57c6cf4312b6",
   "metadata": {},
   "outputs": [
    {
     "data": {
      "text/plain": [
       "torch.Size([1, 2, 32, 32, 32])"
      ]
     },
     "execution_count": 10,
     "metadata": {},
     "output_type": "execute_result"
    }
   ],
   "source": [
    "dec(h1).shape"
   ]
  },
  {
   "cell_type": "code",
   "execution_count": null,
   "id": "2e33bddf-2f0f-4f77-9ba4-d16aaa21ba14",
   "metadata": {},
   "outputs": [],
   "source": []
  }
 ],
 "metadata": {
  "kernelspec": {
   "display_name": "Python 3 (ipykernel)",
   "language": "python",
   "name": "python3"
  },
  "language_info": {
   "codemirror_mode": {
    "name": "ipython",
    "version": 3
   },
   "file_extension": ".py",
   "mimetype": "text/x-python",
   "name": "python",
   "nbconvert_exporter": "python",
   "pygments_lexer": "ipython3",
   "version": "3.9.10"
  }
 },
 "nbformat": 4,
 "nbformat_minor": 5
}
