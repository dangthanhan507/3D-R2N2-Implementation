{
 "cells": [
  {
   "cell_type": "code",
   "execution_count": 2,
   "id": "74d210fe-74fe-4d9f-bc36-d9ed05b9b10c",
   "metadata": {},
   "outputs": [],
   "source": [
    "import torch\n",
    "from torch import nn\n",
    "import numpy as np\n",
    "import matplotlib.pyplot as plt\n",
    "import cv2\n",
    "%matplotlib inline"
   ]
  },
  {
   "cell_type": "code",
   "execution_count": 3,
   "id": "622295cf-6f1a-46a8-be26-4ee3a5574337",
   "metadata": {},
   "outputs": [],
   "source": [
    "device = 'cuda' if torch.cuda.is_available() else 'cpu'"
   ]
  },
  {
   "cell_type": "code",
   "execution_count": 4,
   "id": "750868e0-4e62-4601-809c-483b83e21a69",
   "metadata": {},
   "outputs": [
    {
     "name": "stdout",
     "output_type": "stream",
     "text": [
      "cuda\n"
     ]
    }
   ],
   "source": [
    "print(device)"
   ]
  },
  {
   "cell_type": "code",
   "execution_count": 5,
   "id": "84f3c262-5711-45fc-8991-e06e9a04873a",
   "metadata": {},
   "outputs": [
    {
     "name": "stdout",
     "output_type": "stream",
     "text": [
      "(127, 127, 3)\n"
     ]
    }
   ],
   "source": [
    "im = plt.imread('cat.png')\n",
    "im = cv2.resize(im, (127,127), interpolation=cv2.INTER_AREA)\n",
    "print(im.shape)\n",
    "im = torch.tensor(im.reshape(3,127,127))"
   ]
  },
  {
   "cell_type": "markdown",
   "id": "6b4a5bed-b7d7-4c65-a6dd-09025a4db630",
   "metadata": {},
   "source": [
    "## Testing the Encoding Layer"
   ]
  },
  {
   "cell_type": "code",
   "execution_count": 6,
   "id": "aa3ce297-27c5-4447-83fa-0990166681b3",
   "metadata": {},
   "outputs": [],
   "source": [
    "conv2d1 = torch.nn.Conv2d(3, 96, (7,7),padding='same')\n",
    "#use max pooling\n",
    "pool1 = torch.nn.MaxPool2d( (2,2) )\n",
    "\n",
    "conv2d2 = torch.nn.Conv2d(96, 128, (3,3),padding='same')\n",
    "conv2d3 = torch.nn.Conv2d(128, 256, (3,3),padding='same')\n",
    "conv2d4 = torch.nn.Conv2d(256, 256, (3,3),padding='same')\n",
    "conv2d5 = torch.nn.Conv2d(256, 256, (3,3),padding='same')\n",
    "conv2d6 = torch.nn.Conv2d(256, 256, (3,3),padding='same')\n",
    "\n",
    "fc_layer = torch.nn.Linear(256*1*1, 1024)"
   ]
  },
  {
   "cell_type": "code",
   "execution_count": 7,
   "id": "0eb10e7f-359e-4d4d-bb0e-daadfc7589f6",
   "metadata": {},
   "outputs": [
    {
     "name": "stdout",
     "output_type": "stream",
     "text": [
      "torch.Size([96, 127, 127])\n",
      "torch.Size([96, 63, 63])\n",
      "torch.Size([128, 63, 63])\n",
      "torch.Size([128, 31, 31])\n",
      "torch.Size([256, 31, 31])\n",
      "torch.Size([256, 15, 15])\n",
      "torch.Size([256, 15, 15])\n",
      "torch.Size([256, 7, 7])\n",
      "torch.Size([256, 7, 7])\n",
      "torch.Size([256, 3, 3])\n",
      "torch.Size([256, 3, 3])\n",
      "torch.Size([256, 1, 1])\n",
      "torch.Size([256])\n",
      "torch.Size([1024])\n"
     ]
    }
   ],
   "source": [
    "im_c1 = conv2d1(im)\n",
    "print( im_c1.shape )\n",
    "im_p1 = pool1(im_c1)\n",
    "print( im_p1.shape )\n",
    "im_c2 = conv2d2(im_p1)\n",
    "print( im_c2.shape )\n",
    "im_p2 = pool1(im_c2)\n",
    "print( im_p2.shape )\n",
    "im_c3 = conv2d3(im_p2)\n",
    "print( im_c3.shape )\n",
    "im_p3 = pool1(im_c3)\n",
    "print( im_p3.shape )\n",
    "im_c4 = conv2d4(im_p3)\n",
    "print( im_c4.shape )\n",
    "im_p4 = pool1(im_c4)\n",
    "print( im_p4.shape )\n",
    "im_c5 = conv2d5(im_p4)\n",
    "print( im_c5.shape )\n",
    "im_p5 = pool1(im_c5)\n",
    "print( im_p5.shape )\n",
    "im_c6 = conv2d6(im_p5)\n",
    "print( im_c6.shape )\n",
    "im_p6 = pool1(im_c6)\n",
    "print( im_p6.shape )\n",
    "im_flat = torch.flatten(im_p6)\n",
    "print(im_flat.shape)\n",
    "im_fc = fc_layer(im_flat)\n",
    "print(im_fc.shape)"
   ]
  },
  {
   "cell_type": "code",
   "execution_count": 8,
   "id": "64cf985d-e32f-43d6-b8b7-4276e404e737",
   "metadata": {},
   "outputs": [],
   "source": [
    "conv2d1 = torch.nn.Conv2d(3, 96, (7,7),padding='same')\n",
    "#use max pooling\n",
    "pool1 = torch.nn.MaxPool2d( (2,2) )\n",
    "pool2 = torch.nn.MaxPool2d( (2,2) )\n",
    "pool3 = torch.nn.MaxPool2d( (2,2) )\n",
    "pool4 = torch.nn.MaxPool2d( (2,2) )\n",
    "pool5 = torch.nn.MaxPool2d( (2,2) )\n",
    "pool6 = torch.nn.MaxPool2d( (2,2) )\n",
    "\n",
    "conv2d2 = torch.nn.Conv2d(96, 128, (3,3),padding='same')\n",
    "conv2d3 = torch.nn.Conv2d(128, 256, (3,3),padding='same')\n",
    "conv2d4 = torch.nn.Conv2d(256, 256, (3,3),padding='same')\n",
    "conv2d5 = torch.nn.Conv2d(256, 256, (3,3),padding='same')\n",
    "conv2d6 = torch.nn.Conv2d(256, 256, (3,3),padding='same')\n",
    "\n",
    "relu1 = torch.nn.LeakyReLU()\n",
    "relu2 = torch.nn.LeakyReLU()\n",
    "relu3 = torch.nn.LeakyReLU()\n",
    "relu4 = torch.nn.LeakyReLU()\n",
    "relu5 = torch.nn.LeakyReLU()\n",
    "relu6 = torch.nn.LeakyReLU()\n",
    "relu7 = torch.nn.LeakyReLU()\n",
    "\n",
    "fc_layer = torch.nn.Linear(256*1*1, 1024)\n",
    "\n",
    "def encode(x):\n",
    "    x = conv2d1(x)\n",
    "    x = pool1(x)\n",
    "    x = relu1(x)\n",
    "    x = conv2d2(x)\n",
    "    x = pool2(x)\n",
    "    x = relu2(x)\n",
    "    x = conv2d3(x)\n",
    "    x = pool3(x)\n",
    "    x = relu3(x)\n",
    "    x = conv2d4(x)\n",
    "    x = pool4(x)\n",
    "    x = relu4(x)\n",
    "    x = conv2d5(x)\n",
    "    x = pool5(x)\n",
    "    x = relu5(x)\n",
    "    x = conv2d6(x)\n",
    "    x = pool6(x)\n",
    "    x = relu6(x)\n",
    "    x = torch.flatten(x)\n",
    "    x = fc_layer(x)\n",
    "    x = relu7(x)\n",
    "    return x"
   ]
  },
  {
   "cell_type": "code",
   "execution_count": 9,
   "id": "75a0b8c9-258b-4c58-bc3f-3c3841a67b44",
   "metadata": {},
   "outputs": [
    {
     "name": "stdout",
     "output_type": "stream",
     "text": [
      "torch.Size([1024])\n"
     ]
    }
   ],
   "source": [
    "print( encode(im).shape )"
   ]
  },
  {
   "cell_type": "markdown",
   "id": "1148e195-6802-470e-95a0-98cd41ae55e8",
   "metadata": {},
   "source": [
    "## Testing 3D-LSTM Layer"
   ]
  },
  {
   "cell_type": "code",
   "execution_count": 10,
   "id": "99095c36-8fd3-4e57-ac82-25fdc420a396",
   "metadata": {},
   "outputs": [],
   "source": [
    "batch_size = 1\n",
    "h0 = torch.zeros((128, 4, 4, 4))\n",
    "s0 = torch.zeros((128, 4, 4, 4))"
   ]
  },
  {
   "cell_type": "code",
   "execution_count": 26,
   "id": "2836578a-c564-458a-80f5-f9707c8dede0",
   "metadata": {},
   "outputs": [],
   "source": [
    "# N = 4, which is 4x4x4 spatial resolution of 3d reconstruction specified in paper, we can mess with the resolution.\n",
    "# N_h = 128, so the hidden tensors are NxNxN tensors w/ size N_h\n",
    "\n",
    "conv3d1 = torch.nn.Conv3d(128, 128, (3,3,3),padding='same', bias=True)\n",
    "conv3d2 = torch.nn.Conv3d(128, 128, (3,3,3),padding='same', bias=True)\n",
    "conv3d3 = torch.nn.Conv3d(128, 128, (3,3,3),padding='same', bias=True)\n",
    "\n",
    "hidden1 = torch.nn.Linear(1024, 128*4*4*4)\n",
    "hidden2 = torch.nn.Linear(1024, 128*4*4*4)\n",
    "hidden3 = torch.nn.Linear(1024, 128*4*4*4)"
   ]
  },
  {
   "cell_type": "code",
   "execution_count": 30,
   "id": "4f84367d-ca8d-46b3-a138-e6d1682c2034",
   "metadata": {},
   "outputs": [
    {
     "name": "stdout",
     "output_type": "stream",
     "text": [
      "torch.Size([8192]) torch.Size([128, 4, 4, 4])\n",
      "torch.Size([128, 4, 4, 4])\n",
      "torch.Size([128, 4, 4, 4])\n",
      "torch.Size([128, 4, 4, 4])\n",
      "torch.Size([128, 4, 4, 4])\n"
     ]
    }
   ],
   "source": [
    "test = encode(im)\n",
    "\n",
    "conv1_h0 = conv3d1(h0)\n",
    "conv2_h0 = conv3d2(h0)\n",
    "conv3_h0 = conv3d3(h0)\n",
    "\n",
    "hidden1_test = hidden1(test)\n",
    "hidden2_test = hidden2(test)\n",
    "hidden3_test = hidden3(test)\n",
    "\n",
    "print(hidden1_test.shape, conv1_h0.shape)\n",
    "ft = torch.sigmoid(hidden1_test.reshape(128,4,4,4) + conv1_h0)\n",
    "it = torch.sigmoid(hidden2_test.reshape(128,4,4,4) + conv2_h0)\n",
    "gt = torch.tanh(hidden3_test.reshape(128,4,4,4) + conv3_h0)\n",
    "print(ft.shape)\n",
    "print(it.shape)\n",
    "st = ft * s0 + it * gt\n",
    "print(st.shape)\n",
    "ht = torch.tanh(st)\n",
    "print(ht.shape)"
   ]
  },
  {
   "cell_type": "markdown",
   "id": "300be821-b91b-46de-b7dc-24313ece1b44",
   "metadata": {},
   "source": [
    "## Testing Decoder Network"
   ]
  },
  {
   "cell_type": "code",
   "execution_count": 96,
   "id": "cc7b9001-becc-4fa2-9ec1-2c4901dbfd11",
   "metadata": {},
   "outputs": [],
   "source": [
    "# 5 convolutions\n",
    "# unpooling and 3d convolutions \n",
    "unpool1 = torch.nn.MaxUnpool3d( (2,2,2) )\n",
    "unpool2 = torch.nn.MaxUnpool3d( (2,2,2) )\n",
    "unpool3 = torch.nn.MaxUnpool3d( (2,2,2) )\n",
    "\n",
    "\n",
    "relu10 = torch.nn.LeakyReLU()\n",
    "\n",
    "conv3d_dec1 = torch.nn.Conv3d(128, 128, (3,3,3),padding='same', bias=True)\n",
    "conv3d_dec2 = torch.nn.Conv3d(128, 128, (3,3,3),padding='same', bias=True)\n",
    "conv3d_dec3 = torch.nn.Conv3d(128, 64, (3,3,3),padding='same', bias=True)\n",
    "conv3d_dec4 = torch.nn.Conv3d(64, 32, (3,3,3),padding='same', bias=True)\n",
    "conv3d_dec5 = torch.nn.Conv3d(32, 2, (3,3,3),padding='same', bias=True)\n",
    "\n",
    "softmax = torch.nn.Softmax(dim=1)"
   ]
  },
  {
   "cell_type": "code",
   "execution_count": 97,
   "id": "ca4036ba-0cda-428c-a213-a21a061d6525",
   "metadata": {},
   "outputs": [
    {
     "data": {
      "text/plain": [
       "torch.Size([128, 4, 4, 4])"
      ]
     },
     "execution_count": 97,
     "metadata": {},
     "output_type": "execute_result"
    }
   ],
   "source": [
    "ht.shape"
   ]
  },
  {
   "cell_type": "code",
   "execution_count": 98,
   "id": "e468d15b-581c-457a-ab0e-ce1353fa5534",
   "metadata": {},
   "outputs": [
    {
     "name": "stdout",
     "output_type": "stream",
     "text": [
      "torch.Size([1, 128, 8, 8, 8])\n",
      "torch.Size([1, 128, 16, 16, 16])\n",
      "torch.Size([1, 64, 32, 32, 32])\n",
      "torch.Size([1, 32, 32, 32, 32])\n",
      "torch.Size([1, 2, 32, 32, 32])\n",
      "torch.Size([1, 2, 32, 32, 32])\n"
     ]
    }
   ],
   "source": [
    "ht_res = ht.reshape(1,ht.shape[0],ht.shape[1],ht.shape[2],ht.shape[3]) #this for batch size :{.... fuck\n",
    "up1 = nn.functional.interpolate(ht_res, scale_factor=2, mode='nearest')\n",
    "dec1 = conv3d_dec1(up1)\n",
    "dec1 = relu10(dec1)\n",
    "print(dec1.shape)\n",
    "up2 = nn.functional.interpolate(dec1, scale_factor=2, mode='nearest')\n",
    "dec2 = conv3d_dec2(up2)\n",
    "dec2 = relu10(dec2)\n",
    "print(dec2.shape)\n",
    "up3 = nn.functional.interpolate(dec2, scale_factor=2, mode='nearest')\n",
    "dec3 = conv3d_dec3(up3)\n",
    "dec3 = relu10(dec3)\n",
    "print(dec3.shape)\n",
    "dec4 = conv3d_dec4(dec3)\n",
    "dec4 = relu10(dec4)\n",
    "print(dec4.shape)\n",
    "dec5 = conv3d_dec5(dec4)\n",
    "print(dec5.shape)\n",
    "\n",
    "final = softmax(dec5)\n",
    "print(final.shape)"
   ]
  },
  {
   "cell_type": "code",
   "execution_count": null,
   "id": "62f486e9-46cd-4da7-b896-b2f997453ffb",
   "metadata": {},
   "outputs": [],
   "source": []
  }
 ],
 "metadata": {
  "kernelspec": {
   "display_name": "Python 3 (ipykernel)",
   "language": "python",
   "name": "python3"
  },
  "language_info": {
   "codemirror_mode": {
    "name": "ipython",
    "version": 3
   },
   "file_extension": ".py",
   "mimetype": "text/x-python",
   "name": "python",
   "nbconvert_exporter": "python",
   "pygments_lexer": "ipython3",
   "version": "3.9.10"
  }
 },
 "nbformat": 4,
 "nbformat_minor": 5
}
