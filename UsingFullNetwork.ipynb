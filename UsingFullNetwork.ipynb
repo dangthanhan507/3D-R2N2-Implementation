{
 "cells": [
  {
   "cell_type": "code",
   "execution_count": 1,
   "id": "b23f478b-d9e8-4df4-9109-ec807e66ff39",
   "metadata": {},
   "outputs": [],
   "source": [
    "from model import EncodeNetwork, LSTM_Network, DecodeNetwork\n",
    "import torch\n",
    "from torch import nn\n",
    "import numpy as np\n",
    "import matplotlib.pyplot as plt\n",
    "import cv2\n",
    "%matplotlib inline"
   ]
  },
  {
   "cell_type": "markdown",
   "id": "ba325617-7957-40d1-8a83-ecf837e978ff",
   "metadata": {},
   "source": [
    "# Using Full Network Test"
   ]
  },
  {
   "cell_type": "markdown",
   "id": "4810d937-9662-4de5-bc90-d3102d757f2b",
   "metadata": {},
   "source": [
    "This is a test to make sure my model code works from file. This is right before I tested the whole pipeline with dataset."
   ]
  },
  {
   "cell_type": "code",
   "execution_count": 2,
   "id": "77d29fb8-80af-45d6-8986-ac40e27e8e46",
   "metadata": {},
   "outputs": [],
   "source": [
    "device = 'cuda' if torch.cuda.is_available() else 'cpu'"
   ]
  },
  {
   "cell_type": "code",
   "execution_count": 3,
   "id": "885dc8b7-30a2-4b39-8799-a37e66122e1d",
   "metadata": {},
   "outputs": [
    {
     "name": "stdout",
     "output_type": "stream",
     "text": [
      "cuda\n"
     ]
    }
   ],
   "source": [
    "print(device)"
   ]
  },
  {
   "cell_type": "code",
   "execution_count": 4,
   "id": "f827a835-d193-48ff-9fdb-df0ebb6c5d4a",
   "metadata": {},
   "outputs": [
    {
     "name": "stdout",
     "output_type": "stream",
     "text": [
      "[[0.13224629 0.14305346 0.15394774 ... 0.18562932 0.1788699  0.17661801]\n",
      " [0.15731683 0.16145258 0.16850427 ... 0.1879927  0.1855335  0.17637281]\n",
      " [0.17958714 0.17884216 0.19504492 ... 0.19050126 0.18888876 0.18222909]\n",
      " ...\n",
      " [0.41120997 0.4092585  0.41364428 ... 0.4006953  0.39346942 0.38103503]\n",
      " [0.40712425 0.40625086 0.41060445 ... 0.40380505 0.39608523 0.3868692 ]\n",
      " [0.39853546 0.40264794 0.40639818 ... 0.39880264 0.39327908 0.39192843]]\n",
      "tensor([[0.1322, 0.1431, 0.1539,  ..., 0.1856, 0.1789, 0.1766],\n",
      "        [0.1573, 0.1615, 0.1685,  ..., 0.1880, 0.1855, 0.1764],\n",
      "        [0.1796, 0.1788, 0.1950,  ..., 0.1905, 0.1889, 0.1822],\n",
      "        ...,\n",
      "        [0.4112, 0.4093, 0.4136,  ..., 0.4007, 0.3935, 0.3810],\n",
      "        [0.4071, 0.4063, 0.4106,  ..., 0.4038, 0.3961, 0.3869],\n",
      "        [0.3985, 0.4026, 0.4064,  ..., 0.3988, 0.3933, 0.3919]],\n",
      "       device='cuda:0')\n"
     ]
    }
   ],
   "source": [
    "im = plt.imread('cat.png')\n",
    "im = cv2.resize(im, (127,127), interpolation=cv2.INTER_AREA)\n",
    "print(im[:,:,0])\n",
    "im.transpose(2,0,1)\n",
    "im = torch.tensor(np.rollaxis(im,2,start=0), device=device)\n",
    "print(im[0])"
   ]
  },
  {
   "cell_type": "code",
   "execution_count": 5,
   "id": "60b4280c-fb2c-4c8d-9c4a-aeea04efe219",
   "metadata": {},
   "outputs": [],
   "source": [
    "enc = EncodeNetwork()\n",
    "enc = enc.cuda()\n",
    "\n",
    "lstm = LSTM_Network()\n",
    "lstm = lstm.cuda()\n",
    "\n",
    "dec = DecodeNetwork()\n",
    "dec = dec.cuda()"
   ]
  },
  {
   "cell_type": "code",
   "execution_count": 6,
   "id": "5f3a66be-93ee-4451-bb95-ea2b5dbfe16b",
   "metadata": {},
   "outputs": [],
   "source": [
    "encoded = enc(im).cuda()"
   ]
  },
  {
   "cell_type": "code",
   "execution_count": 7,
   "id": "2d972606-f45c-4923-9be9-eb8bce9a8878",
   "metadata": {},
   "outputs": [],
   "source": [
    "h0 = torch.zeros((128, 4, 4, 4)).cuda()\n",
    "s0 = torch.zeros((128, 4, 4, 4)).cuda()\n",
    "s1,h1 = lstm(encoded,s0,h0)"
   ]
  },
  {
   "cell_type": "code",
   "execution_count": 8,
   "id": "b7558ee8-e2e8-461b-a65d-8c0dc5c872bd",
   "metadata": {},
   "outputs": [
    {
     "name": "stdout",
     "output_type": "stream",
     "text": [
      "torch.Size([128, 4, 4, 4]) torch.Size([128, 4, 4, 4])\n",
      "cuda:0 cuda:0\n"
     ]
    }
   ],
   "source": [
    "print(s1.shape, h1.shape)\n",
    "print(s1.device, h1.device)"
   ]
  },
  {
   "cell_type": "code",
   "execution_count": 9,
   "id": "590b9462-0053-4c5f-b257-3bf4a3a3103a",
   "metadata": {},
   "outputs": [
    {
     "data": {
      "text/plain": [
       "torch.Size([1, 2, 32, 32, 32])"
      ]
     },
     "execution_count": 9,
     "metadata": {},
     "output_type": "execute_result"
    }
   ],
   "source": [
    "h1_res = h1.reshape((1,)+h1.shape)\n",
    "dec(h1_res).shape"
   ]
  },
  {
   "cell_type": "code",
   "execution_count": 10,
   "id": "396a691b-7eb3-4444-8131-475c79972b24",
   "metadata": {},
   "outputs": [
    {
     "name": "stdout",
     "output_type": "stream",
     "text": [
      "0.005682229995727539\n"
     ]
    }
   ],
   "source": [
    "import time\n",
    "start = time.time()\n",
    "encoded = enc(im).cuda()\n",
    "h0 = torch.zeros((128, 4, 4, 4)).cuda()\n",
    "s0 = torch.zeros((128, 4, 4, 4)).cuda()\n",
    "s1,h1 = lstm(encoded,s0,h0)\n",
    "h1_res = h1.reshape((1,)+h1.shape)\n",
    "dec(h1_res).shape\n",
    "print(time.time() - start)"
   ]
  },
  {
   "cell_type": "code",
   "execution_count": null,
   "id": "9a0eba57-7ded-4f71-b74d-702176ce288b",
   "metadata": {},
   "outputs": [],
   "source": []
  }
 ],
 "metadata": {
  "kernelspec": {
   "display_name": "Python 3 (ipykernel)",
   "language": "python",
   "name": "python3"
  },
  "language_info": {
   "codemirror_mode": {
    "name": "ipython",
    "version": 3
   },
   "file_extension": ".py",
   "mimetype": "text/x-python",
   "name": "python",
   "nbconvert_exporter": "python",
   "pygments_lexer": "ipython3",
   "version": "3.9.10"
  }
 },
 "nbformat": 4,
 "nbformat_minor": 5
}
